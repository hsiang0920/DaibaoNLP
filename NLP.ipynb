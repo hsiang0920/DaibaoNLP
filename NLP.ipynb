{
 "cells": [
  {
   "cell_type": "code",
   "execution_count": 2,
   "metadata": {},
   "outputs": [],
   "source": [
    "import csv\n",
    "import numpy as np\n",
    "from bs4 import BeautifulSoup as bs\n",
    "import requests\n",
    "import pandas\n",
    "from ckiptagger import data_utils, construct_dictionary, WS, POS, NER\n",
    "import pandas as pd\n",
    "from tqdm import tqdm"
   ]
  },
  {
   "cell_type": "code",
   "execution_count": null,
   "metadata": {},
   "outputs": [],
   "source": [
    "# data_utils.download_data_gdown(\"./\")"
   ]
  },
  {
   "cell_type": "code",
   "execution_count": null,
   "metadata": {
    "collapsed": true
   },
   "outputs": [],
   "source": [
    "df = pd.read_csv(\"article_full.csv\", encoding=\"utf-8\")\n",
    "df"
   ]
  },
  {
   "cell_type": "code",
   "execution_count": 3,
   "metadata": {
    "tags": []
   },
   "outputs": [
    {
     "output_type": "stream",
     "name": "stderr",
     "text": "  2%|▏         | 108/5023 [13:48<6:39:21,  4.88s/it]"
    }
   ],
   "source": [
    "df = pd.read_csv(\"article_full.csv\", encoding=\"utf-8\")\n",
    "ws = WS('./data')\n",
    "content_full = df['content_full']\n",
    "clean_list=[]\n",
    "for i in tqdm(range(len(content_full))):\n",
    "    # print(i)\n",
    "    try:\n",
    "        clean_content = bs(content_full[i], 'html.parser').text\n",
    "        clean_content =''.join(clean_content.split())\n",
    "        clean_content = clean_content.replace('\\n','').replace('\\r','').replace('\\xa0','').replace('\\t','').replace('\\u3000','').replace(' ','')\n",
    "        clean_content = ws([clean_content])\n",
    "    except TypeError:\n",
    "        continue\n",
    "    # print(clean_content)\n",
    "    clean_list.append(clean_content)\n",
    "df.iloc[:,4]=clean_list\n",
    "df"
   ]
  },
  {
   "cell_type": "code",
   "execution_count": null,
   "metadata": {
    "tags": []
   },
   "outputs": [],
   "source": [
    "df.to_csv('article_clean.csv', encoding = 'utf-8')"
   ]
  },
  {
   "cell_type": "code",
   "execution_count": null,
   "metadata": {},
   "outputs": [],
   "source": [
    "df = pd.read_csv(\"article_clean.csv\", encoding=\"utf-8\")\n",
    "content = df['content_full']\n",
    "content[:10]"
   ]
  },
  {
   "cell_type": "code",
   "execution_count": null,
   "metadata": {},
   "outputs": [],
   "source": [
    "ws = WS('./data')\n",
    "text=\"今天天氣真好\"\n",
    "result = ws([text])\n",
    "result"
   ]
  },
  {
   "cell_type": "code",
   "execution_count": null,
   "metadata": {},
   "outputs": [],
   "source": [
    "fh1 = open('article_full.csv', 'r', encoding='utf-8', newline='')\n",
    "cheader = fh1.readline()\n",
    "reader1 = csv.reader(fh1, delimiter = '\\t')\n",
    "stockfn_tmp1 = 'article_clean.csv'\n",
    "fh3 = open(stockfn_tmp1, 'w', encoding = 'utf-8', newline='')"
   ]
  }
 ],
 "metadata": {
  "kernelspec": {
   "display_name": "Python 3",
   "language": "python",
   "name": "python3"
  },
  "language_info": {
   "codemirror_mode": {
    "name": "ipython",
    "version": 3
   },
   "file_extension": ".py",
   "mimetype": "text/x-python",
   "name": "python",
   "nbconvert_exporter": "python",
   "pygments_lexer": "ipython3",
   "version": "3.7.7-final"
  }
 },
 "nbformat": 4,
 "nbformat_minor": 4
}